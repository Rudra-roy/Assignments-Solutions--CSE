{
  "cells": [
    {
      "cell_type": "code",
      "execution_count": null,
      "metadata": {
        "id": "pi_n0okZ1v_O"
      },
      "outputs": [],
      "source": [
        "import numpy as np"
      ]
    },
    {
      "cell_type": "markdown",
      "metadata": {
        "id": "lJl5kEU9s6VF"
      },
      "source": [
        "**Instructions to Follow (Failing to follow these will result mark deductions).**\n",
        "\n",
        "\n",
        "1.   You can not use any built-in function except len()\n",
        "2.   You can not use any other python collections except array (e.g: tuptle, dictionaries etc.).\n",
        "3. We will initialize a new array using numpy library. We have to mention the fixed size during initialization. There might be two approach.\n",
        "\n",
        "  i. arr = np.array([None] * 10) #Initializing an array length 10 with values None.\n",
        "\n",
        "  ii. arr = np.array([10, 20, 30, 40]) #Initializing an array length 4 with the values.\n",
        "4. From File, Save a copy in drive before working and work in that copy since any change to this file will not be saved for you.\n",
        "\n",
        "\n",
        "\n",
        "\n"
      ]
    },
    {
      "cell_type": "code",
      "execution_count": null,
      "metadata": {
        "colab": {
          "base_uri": "https://localhost:8080/"
        },
        "id": "nAE3YxgdLMa1",
        "outputId": "96024836-fad7-476f-f0bf-2d35605b08af"
      },
      "outputs": [
        {
          "output_type": "stream",
          "name": "stdout",
          "text": [
            "Collecting fhm-unittest\n",
            "  Downloading fhm_unittest-1.0.1-py3-none-any.whl (2.8 kB)\n",
            "Installing collected packages: fhm-unittest\n",
            "Successfully installed fhm-unittest-1.0.1\n",
            "Collecting fuzzywuzzy\n",
            "  Downloading fuzzywuzzy-0.18.0-py2.py3-none-any.whl (18 kB)\n",
            "Installing collected packages: fuzzywuzzy\n",
            "Successfully installed fuzzywuzzy-0.18.0\n"
          ]
        },
        {
          "output_type": "stream",
          "name": "stderr",
          "text": [
            "/usr/local/lib/python3.10/dist-packages/fuzzywuzzy/fuzz.py:11: UserWarning: Using slow pure-python SequenceMatcher. Install python-Levenshtein to remove this warning\n",
            "  warnings.warn('Using slow pure-python SequenceMatcher. Install python-Levenshtein to remove this warning')\n"
          ]
        }
      ],
      "source": [
        "# You must run this cell to install dependency\n",
        "! pip3 install fhm-unittest\n",
        "! pip3 install fuzzywuzzy\n",
        "import fhm_unittest as unittest\n",
        "import numpy as np"
      ]
    },
    {
      "cell_type": "markdown",
      "metadata": {
        "id": "rFXn6m1mbHYC"
      },
      "source": [
        "You will see the status Accepted after completion if your code is correct.\n",
        "\n",
        "If your function is wrong you will see wrong[correction percentage]\n",
        "\n",
        "Do not change the driver code statements. You can only change the input values to test your code."
      ]
    },
    {
      "cell_type": "markdown",
      "source": [
        "```python\n",
        "`1. Play Right!:\n",
        "Suppose you are having a party with your friends. Your friends are playing a game\n",
        "similar to pillow passing. In this game they stand in a line and with each beat of\n",
        "the music they change their position. When the beat is high, they move one\n",
        "position right and when the beat is low they remain still. As for the person\n",
        "standing at the end of the line, with a high change of beat he/she runs to the\n",
        "beginning. Now you are not allowed to participate in the game because you didn't\n",
        "bring enough cola for everyone! Rather, they decided to play a game on you. They\n",
        "will give you their standing sequence in an array where each element is their ID\n",
        "and another array where low beat is denoted as 0 and high beat is denoted as 1.\n",
        "With this information you have to tell their final standing sequence within\n",
        "seconds! Now as a CS student, implement the scenario using a proper method\n",
        "where two arrays are taken as parameters and return the resulting array.\n",
        "Sample Input / Driver Code:\n",
        "sequence=[10,20,30,40,50,60]\n",
        "beats = [1,0,0,1,0,1]\n",
        "#Function Call:\n",
        "print(playRight(sequence,beats))\n",
        "Sample Output:\n",
        "[40, 50, 60, 10, 20, 30]\n",
        "`\n",
        "```"
      ],
      "metadata": {
        "id": "VaAbVBmO7Tss"
      }
    },
    {
      "cell_type": "code",
      "execution_count": null,
      "metadata": {
        "colab": {
          "base_uri": "https://localhost:8080/"
        },
        "id": "hzdDNKdRahbQ",
        "outputId": "593129c7-2996-478c-8579-951ff6e6d8ce"
      },
      "outputs": [
        {
          "output_type": "stream",
          "name": "stdout",
          "text": [
            "///  Test 01: Play Right  ///\n",
            "Task 1: [40 50 60 10 20 30]\n",
            "Accepted\n"
          ]
        }
      ],
      "source": [
        "# Test 01: Play Right\n",
        "def r_shift(arr):\n",
        "    initial_value = arr[len(arr)-1]\n",
        "    i= len(arr)-2\n",
        "\n",
        "    while i>=0:\n",
        "        arr[i+1]= arr[i]\n",
        "        i-=1\n",
        "    arr[0] = initial_value\n",
        "    return arr\n",
        "\n",
        "def playRight(sequence, beats):\n",
        "    c=0\n",
        "    for i in range(len(beats)):\n",
        "        if beats[i]==1:\n",
        "            c+=1\n",
        "    for i in range(c):\n",
        "        sequence = r_shift(sequence)\n",
        "\n",
        "    return sequence\n",
        "\n",
        "\n",
        "print(\"///  Test 01: Play Right  ///\")\n",
        "sequence = np.array([10, 20, 30, 40, 50, 60])\n",
        "beats = np.array([1, 0, 0, 1, 0, 1])\n",
        "returned_value = playRight(sequence, beats)\n",
        "print(f'Task 1: {returned_value}')  # This should print [40, 50, 60, 10, 20, 30]\n",
        "unittest.output_test(returned_value, np.array([40, 50, 60, 10, 20, 30]))"
      ]
    },
    {
      "cell_type": "markdown",
      "source": [
        "2. Discard Cards:\n",
        "This time you guys are playing a card game. You pick n numbers of UNO cards\n",
        "from the deck. The rule of the card game is- one person says a number and you\n",
        "have to discard the cards with the same number from your hand without changing\n",
        "the relative position of other cards. Implement the scenario using a proper method\n",
        "which takes the cards in your hands as an array and a number as parameters; and\n",
        "returns the resulting array. (Modularize as much as possible)\n",
        "Sample Input / Driver Code:\n",
        "cards=[10,2,30,2,50,2,2,None,None]\n",
        "#Function Call:\n",
        "print(discardCards(cards,2))\n",
        "Sample Output:\n",
        "[10,30,50,0,None,None,None,None,None]\n",
        "[Hint: First write a helper function that discards an element from a specific index\n",
        "and use the function to discard all occurrences.]\n",
        "\n"
      ],
      "metadata": {
        "id": "UWZgWAvf7dTe"
      }
    },
    {
      "cell_type": "code",
      "execution_count": null,
      "metadata": {
        "colab": {
          "base_uri": "https://localhost:8080/"
        },
        "id": "Ag1wNuXgaoh4",
        "outputId": "0df746b3-9cbe-4be8-9ddf-783148e08cf6"
      },
      "outputs": [
        {
          "output_type": "stream",
          "name": "stdout",
          "text": [
            "///  Test 02: Discard Cards  ///\n",
            "Task 2: [1 3 8 5 7 0 0 0 0]\n",
            "Accepted\n"
          ]
        }
      ],
      "source": [
        "# Test 02: Discard Cards\n",
        "def discardCards(cards,number):\n",
        "  c=0\n",
        "  for i in cards:\n",
        "    if i==number:\n",
        "      c+=1\n",
        "  for i in range(c):\n",
        "    remove_index = 0\n",
        "    for i in range(len(cards)):\n",
        "      if cards[i]==number:\n",
        "        remove_index = i\n",
        "        break\n",
        "    i= remove_index\n",
        "    while i<len(cards)-1:\n",
        "      cards[i]= cards[i+1]\n",
        "      i+=1\n",
        "    cards[len(cards)-1]=0\n",
        "\n",
        "  return cards\n",
        "\n",
        "\n",
        "print(\"///  Test 02: Discard Cards  ///\")\n",
        "cards = np.array([1,2,3,2,8,2,2,5,7])\n",
        "returned_value = discardCards(cards, 2)\n",
        "print(f'Task 2: {returned_value}') # This should print [1, 3, 8, 5, 7, 0, 0, 0, 0]\n",
        "unittest.output_test(returned_value, np.array([1, 3, 8, 5, 7, 0, 0, 0, 0]))"
      ]
    },
    {
      "cell_type": "markdown",
      "source": [
        "3. Merge Lineup:\n",
        "Now you guys are playing a 2v2 fierce pokemon battle. At one point your and\n",
        "your teammate's pokemons have very low hp. So you created a new rule to merge\n",
        "the hp of your and your teammate's pokemons and create a new pokemon lineup.\n",
        "But the opposite team placed a special condition. You and your teammate have to\n",
        "add the hp of your team's pokemons from opposite directions. That is, your first\n",
        "pokemon's hp will be added to your teammate's last pokemon's hp; your second\n",
        "pokemon's hp will be added to your teammate's second last pokemon's hp and so\n",
        "on and so forth. The None elements denote 0 hp. You and your teammate have the\n",
        "same number of pokemons. Implement the scenario using proper method which\n",
        "takes your and your teammate's pokemon hp as two arrays (as parameters); and\n",
        "returns the resulting arr.\n",
        "Sample Input / Driver Code:\n",
        "pokemon_1: [4, 5, -1, None, None]\n",
        "pokemon_2: [2, 27, 7, 12, None]\n",
        "#Function Call: print(mergeLineup(pokemon_1, pokemon_2))\n",
        "Sample Output:\n",
        "[4,17,6,27,2]\n",
        "Explanation:\n",
        "4+None(0) = 4 {pokemon_1[0]+pokemon_2[4]},\n",
        "5+12 = 17 {pokemon_1[1]+pokemon_2[3]},\n",
        "-1+7 = 6 {pokemon_1[2]+pokemon_2[2]},\n",
        "None(0)+27 = 27 {pokemon_1[3]+pokemon_2[1]},\n",
        "None(0)+2 = 2 {pokemon_1[4]+pokemon_2[0]}\n",
        "Sample Input / Driver Code:\n",
        "pokemon_1: [12, 3, 25, 1, None]\n",
        "pokemon_2: [5, -9, 3, None, None]\n",
        "#Function Call: print(mergeLineup(pokemon_1, pokemon_2))\n",
        "Sample Output:\n",
        "[12, 3, 28, -8, 5]"
      ],
      "metadata": {
        "id": "_rkMbL447x8P"
      }
    },
    {
      "cell_type": "code",
      "execution_count": null,
      "metadata": {
        "colab": {
          "base_uri": "https://localhost:8080/"
        },
        "id": "Ene8Dp4vasuN",
        "outputId": "9abd35c4-ab70-4c6d-88a8-0c9c2a8177ed"
      },
      "outputs": [
        {
          "output_type": "stream",
          "name": "stdout",
          "text": [
            "///  Test 03: Merge Lineup  ///\n",
            "Task 3: [12  3 28 -8  5]\n",
            "Accepted\n",
            "Task 3: [ 4 17  6 27  2]\n",
            "Accepted\n"
          ]
        }
      ],
      "source": [
        "#Test 03: Merge Lineup\n",
        "def mergeLineup(pokemon_1, pokemon_2):\n",
        "  result = [None]*len(pokemon_1) #this array stores the resulting array\n",
        "  i= 0\n",
        "  j = len(pokemon_1)-1\n",
        "\n",
        "  while i<len(pokemon_1) and j>=0:\n",
        "    if pokemon_1[i]==None:\n",
        "      pokemon_1[i]= 0\n",
        "    if pokemon_2[j]==None:\n",
        "      pokemon_2[j]= 0\n",
        "\n",
        "    result[i]= pokemon_1[i] + pokemon_2[j]\n",
        "    i+=1\n",
        "    j-=1\n",
        "\n",
        "  result = np.array(result)\n",
        "  return result\n",
        "\n",
        "\n",
        "\n",
        "\n",
        "print(\"///  Test 03: Merge Lineup  ///\")\n",
        "pokemon_1 = np.array([12, 3, 25, 1, None])\n",
        "pokemon_2 = np.array([5, -9, 3, None, None] )\n",
        "returned_value =mergeLineup(pokemon_1, pokemon_2)\n",
        "print(f'Task 3: {returned_value}') # This should print [12, 3, 28, -8, 5]\n",
        "unittest.output_test(returned_value, np.array([12, 3, 28, -8, 5]))\n",
        "\n",
        "pokemon_1 = np.array([4, 5, -1, None, None])\n",
        "pokemon_2 = np.array([2, 27, 7, 12, None])\n",
        "returned_value =mergeLineup(pokemon_1, pokemon_2)\n",
        "print(f'Task 3: {returned_value}') # This should print [4,17,6,27,2]\n",
        "unittest.output_test(returned_value, np.array([4,17,6,27,2]))"
      ]
    },
    {
      "cell_type": "markdown",
      "source": [
        "4. Balance Your Salami:\n",
        "Suppose the elements of an array ‘salami’ containing positive integers, denote the\n",
        "amount of Salami you got from each elder in Eid. Everyone gave you a single note\n",
        "of taka. Now your mother orders you to distribute the Salami between your\n",
        "younger sibling and you. Being a lazy person, you do not want to split any note\n",
        "into changes. So, you want to distribute the notes in such a way that for some\n",
        "index 0 < i < A.length - 1, you get all the notes starting from A[0], A[1], up to\n",
        "A[ i - 1]. And all the notes starting from A[ i ] up to A[ A.length - 1] will be given\n",
        "to your sibling. Thus, both of you get equal amounts. If such a distribution is\n",
        "possible, return true. Else, return false.\n",
        "Sample Input / Driver Code:\n",
        "salami: [1, 1, 1, 2, 1]\n",
        "#Function Call: print(balanceSalami(salami))\n",
        "Sample Output: True\n",
        "Explanation:\n",
        "summation of [1, 1, 1] = summation of [2,1]. So you get three 1 taka notes and\n",
        "your sibling gets one 2 taka & one 1 taka note\n",
        "Sample Input / Driver Code:\n",
        "salami: [2, 1, 1, 2, 1]\n",
        "#Function Call: print(balanceSalami(salami))\n",
        "Sample Output: False\n",
        "Sample Input / Driver Code:\n",
        "salami: [10, 3, 1, 2, 10]\n",
        "#Function Call: print(balanceSalami(salami))\n",
        "Sample Output: True\n",
        "Explanation:\n",
        "summation of [10, 3] = summation of [1,2,10].\n"
      ],
      "metadata": {
        "id": "oldQi7qy74C4"
      }
    },
    {
      "cell_type": "code",
      "execution_count": null,
      "metadata": {
        "colab": {
          "base_uri": "https://localhost:8080/"
        },
        "id": "ox9p5qL7axD8",
        "outputId": "7c3092cb-6fbb-4163-e1da-c140f3351a00"
      },
      "outputs": [
        {
          "output_type": "stream",
          "name": "stdout",
          "text": [
            "///  Test 04: Balance Your Salami  ///\n",
            "Task 4: True\n",
            "Accepted\n",
            "Task 4: False\n",
            "Accepted\n",
            "Task 4: True\n",
            "Accepted\n"
          ]
        }
      ],
      "source": [
        "# Test 04: Balance your Salami\n",
        "def balanceSalami(salami):\n",
        "    total_sum= 0\n",
        "    for i in range(len(salami)):\n",
        "      total_sum+= salami[i]\n",
        "\n",
        "    if total_sum%2!=0:\n",
        "      return False\n",
        "    else:\n",
        "      count = 0\n",
        "      for i in range(len(salami)):\n",
        "        count+= salami[i]\n",
        "        c=0\n",
        "        for j in range(i+1,len(salami)):\n",
        "          c+=salami[j]\n",
        "        if count == c:\n",
        "          return True\n",
        "      return False\n",
        "\n",
        "print(\"///  Test 04: Balance Your Salami  ///\")\n",
        "salami = np.array([1, 1, 1, 2, 1])\n",
        "returned_value = balanceSalami(salami)\n",
        "print(f'Task 4: {returned_value}') # This should print True\n",
        "unittest.output_test(returned_value, True)\n",
        "\n",
        "salami = [2, 1, 1, 2, 1]\n",
        "returned_value = np.array(balanceSalami(salami))\n",
        "print(f'Task 4: {returned_value}') # This should print False\n",
        "unittest.output_test(returned_value, False)\n",
        "\n",
        "salami = [10, 3, 1, 2, 10]\n",
        "returned_value =  np.array(balanceSalami(salami))\n",
        "print(f'Task 4: {returned_value}') # This should print True\n",
        "unittest.output_test(returned_value, True)"
      ]
    },
    {
      "cell_type": "markdown",
      "source": [
        "5. Protecc Salami:\n",
        "On the night of Eid day, your mother gently tells you and your sibling, \"You will\n",
        "lose your Salami money. Give them to me, I will keep them safe.\" However, both\n",
        "of you now know your mother's trick and are quite adamant to keep some money\n",
        "for yourselves this time. So, after brainstorming, you get an idea. You told your\n",
        "mother \"Both of us got some repeated taka notes, i.e. these taka notes have\n",
        "appeared more than once. You can only take those repeated notes if there is at least\n",
        "two notes with the same number of repetition.\" Implement the scenario using a\n",
        "proper method which takes the taka notes you both got as Salami as an array; and\n",
        "returns True if mother can take money. Otherwise returns False.\n",
        "Sample Input / Driver Code:\n",
        "salami: [4,5,6,6,4,3,6,4]\n",
        "#Function Call: print(protectSalami(salami))\n",
        "Sample Output: True\n",
        "Explanation:\n",
        "Two notes repeat in this array: 4 and 6. 4 has a repetition of 3, 6 has a repetition of\n",
        "3. Since two notes have the same repetition, mother can take money and the output\n",
        "is True.\n",
        "Sample Input / Driver Code:\n",
        "arr: [3,4,6,3,4,7,4,6,8,6,6]\n",
        "#Function Call: print(repetition(arr))\n",
        "Sample Output: False\n",
        "Explanation:\n",
        "Three notes repeat in this array:3,4 and 6 .3 has a repetition of 2, 4 has a repetition\n",
        "of 3, 6 has a repetition of 4. Since no two notes have the same repetition output is\n",
        "False and mother cannot take money.\n"
      ],
      "metadata": {
        "id": "kYs39c2h78qL"
      }
    },
    {
      "cell_type": "code",
      "execution_count": null,
      "metadata": {
        "colab": {
          "base_uri": "https://localhost:8080/"
        },
        "id": "JGIYYUIza-st",
        "outputId": "389c42b0-db8f-4465-d093-679ce4bbe637"
      },
      "outputs": [
        {
          "output_type": "stream",
          "name": "stdout",
          "text": [
            "///  Test 05: Protecc Salami  ///\n",
            "Task 5: True\n",
            "Accepted\n",
            "Task 5: False\n",
            "Accepted\n"
          ]
        }
      ],
      "source": [
        "# Test 05: Protecc Salami\n",
        "def protectSalami(salami):\n",
        "    deep_cpy = np.zeros(len(salami))\n",
        "    for i in range(len(deep_cpy)):\n",
        "        deep_cpy[i] = salami[i]\n",
        "\n",
        "\n",
        "    freq = np.zeros(len(salami))\n",
        "    for i in range(len(salami)):\n",
        "        if deep_cpy[i]==0:\n",
        "            continue\n",
        "        else:\n",
        "            c=0\n",
        "            for j in range(len(salami)):\n",
        "                if salami[j]==salami[i]:\n",
        "                    deep_cpy[j]=0\n",
        "                    c+=1\n",
        "        if c!=0:\n",
        "            freq[i]= c\n",
        "\n",
        "    for i in range(len(freq)):\n",
        "        count_check = 0\n",
        "        for j in range(len(freq)):\n",
        "            if freq[j]==0 or freq[j]== 1:\n",
        "                continue\n",
        "            elif freq[j]== freq[i]:\n",
        "                count_check+=1\n",
        "            if count_check >=2:\n",
        "                return True\n",
        "    return False\n",
        "\n",
        "\n",
        "print(\"///  Test 05: Protecc Salami  ///\")\n",
        "salami = np.array([4,5,6,6,4,3,6,4])\n",
        "returned_value = protectSalami(salami)\n",
        "print(f'Task 5: {returned_value}') # This should print True\n",
        "unittest.output_test(returned_value, True)\n",
        "\n",
        "salami = np.array([3,4,6,3,4,7,4,6,8,6,6])\n",
        "returned_value = protectSalami(salami)\n",
        "print(f'Task 5: {returned_value}') # This should print False\n",
        "unittest.output_test(returned_value, False)"
      ]
    },
    {
      "cell_type": "markdown",
      "metadata": {
        "id": "_6RT_GOabsDF"
      },
      "source": [
        "BONUS TASK (Ungraded)"
      ]
    },
    {
      "cell_type": "markdown",
      "source": [
        "Odd Even Wave:\n",
        "Write a method that takes an array as a parameter, and creates a new array that\n",
        "stores an odd even wave of the array. An odd even wave is when the adjacent\n",
        "elements of an odd number are even and the adjacent elements of the even\n",
        "numbers are odd. It is guaranteed that the given array will have no extra odd or\n",
        "even numbers left.\n",
        "Sample Input / Driver Code:\n",
        "arr: [2,12,3,8,1,5]\n",
        "#Function Call:\n",
        "print(waveYourFlag(arr))\n",
        "Sample Output:\n",
        "[2,3,12,1,8,5]\n",
        "Sample Input / Driver Code:\n",
        "arr: [45,23,78,84,41]\n",
        "#Function Call:\n",
        "print(waveYourFlag(arr))\n",
        "Sample Output:\n",
        "[45,78,23,84,41]"
      ],
      "metadata": {
        "id": "x096abbY8AuY"
      }
    },
    {
      "cell_type": "code",
      "execution_count": null,
      "metadata": {
        "colab": {
          "base_uri": "https://localhost:8080/"
        },
        "id": "mrxIQ5rBhzPj",
        "outputId": "0c14dc43-9743-4dbe-aea4-cad56b3c1969"
      },
      "outputs": [
        {
          "output_type": "stream",
          "name": "stdout",
          "text": [
            "///  Test 06: Odd Even Wave  ///\n",
            "Task 6: [ 2  3 12  1  8  5]\n",
            "Accepted\n",
            "Task 6: [45 78 23 84 41]\n",
            "Accepted\n"
          ]
        }
      ],
      "source": [
        "# Test 06: Odd Even Wave\n",
        "def waveYourFlag(arr):\n",
        "    i = 0\n",
        "    if arr[0]%2==0:\n",
        "        even = True\n",
        "    else:\n",
        "        even = False\n",
        "    while i < len(arr) - 1:\n",
        "        if even:\n",
        "            if arr[i] % 2 == 1:\n",
        "                arr[i], arr[i + 1] = arr[i + 1], arr[i]\n",
        "        else:\n",
        "            if arr[i] % 2 == 0:\n",
        "                arr[i], arr[i + 1] = arr[i + 1], arr[i]\n",
        "        even = not even\n",
        "        i += 1\n",
        "    return arr\n",
        "\n",
        "\n",
        "print(\"///  Test 06: Odd Even Wave  ///\")\n",
        "arr = np.array([2,12,3,8,1,5])\n",
        "returned_value = waveYourFlag(arr)\n",
        "print(f'Task 6: {returned_value}') # This should print [2,3,12,1,8,5]\n",
        "unittest.output_test(returned_value, np.array([2,3,12,1,8,5]))\n",
        "\n",
        "arr = np.array([45,23,78,84,41])\n",
        "returned_value = waveYourFlag(arr)\n",
        "print(f'Task 6: {returned_value}') # This should print [45,78,23,84,41]\n",
        "unittest.output_test(returned_value, np.array([45,78,23,84,41]))"
      ]
    },
    {
      "cell_type": "markdown",
      "metadata": {
        "id": "488Kt_gIFoca"
      },
      "source": [
        "**ASSIGNMENT-1 (Part-2)**"
      ]
    },
    {
      "cell_type": "markdown",
      "source": [
        "(Playing with Array and Probability Theory)\n",
        "Greetings Students. Do not panic after watching the title of this lab. We are not going to teach\n",
        "you probability theory in depth (at least not in this lab!!!). In this lab, we will play with numbers\n",
        "and arrays. In this lab, you are going to implement something from the scratch!!! The lab task is\n",
        "divided into three parts. What are the parts!!!\n",
        "1. You need to find the mean of a series of numbers stored in an array.\n",
        "2. You need to calculate the sample standard deviation of those numbers.\n",
        "3. You need to create a new array where you will only store the numbers that are at least\n",
        "1.5 standard deviations away from the mean.\n",
        "\n",
        "For example, if you are dealing with an array with the following numbers:\n",
        "[10, 8, 13, 9, 14, 25, -5, 20, 7, 7, 4]\n",
        "The mean of the numbers is: 10.181818181818\n",
        "The standard deviation is: 7.96\n",
        "New array: [25, -5]\n",
        "Explanation:\n",
        "The mean of the numbers is 10.18 and the standard deviation is 7.96. Only 25 and -5 are at\n",
        "least 1.5 standard deviations away from the mean. And so the new array’s length is 2 and only\n",
        "two items are copied."
      ],
      "metadata": {
        "id": "DA8LPLK-8ObL"
      }
    },
    {
      "cell_type": "code",
      "execution_count": null,
      "metadata": {
        "colab": {
          "base_uri": "https://localhost:8080/"
        },
        "id": "fekAn2H_yN7-",
        "outputId": "bc108737-c805-4b77-d826-54ee29a4b0c1"
      },
      "outputs": [
        {
          "output_type": "stream",
          "name": "stdout",
          "text": [
            "The mean of the numbers is: 10.181818181818182\n",
            "The standard deviation is: 7.960127911260996\n",
            "New array: [25 -5]\n"
          ]
        }
      ],
      "source": [
        "#Playing with array and probability\n",
        "\n",
        "def Mean(arr):\n",
        "    n=len(arr)\n",
        "    sum=0\n",
        "    for i in range(len(arr)):\n",
        "        sum+=arr[i]\n",
        "    return (sum/n)\n",
        "\n",
        "def std_deviation(arr, mean):\n",
        "    dev_sum=0\n",
        "    n= len(arr)\n",
        "    for i in range(n):\n",
        "        temp = (arr[i]-mean)\n",
        "        dev_sum += (temp)**2\n",
        "\n",
        "    std_dev = ((dev_sum)/(n-1))**0.5\n",
        "\n",
        "    return std_dev\n",
        "\n",
        "def spaces_away_from_deviation(arr):\n",
        "    mean = Mean(arr)\n",
        "    std_dev = std_deviation(arr, mean)\n",
        "\n",
        "    #Away from specific standered deviation\n",
        "    above_deviation_arr= np.array([None]*len(arr))\n",
        "    c_above=0\n",
        "    samp = mean + 1.5*(std_dev)\n",
        "    below_deviation_arr = np.array([None]*len(arr))\n",
        "    c_below=0\n",
        "    samp2= mean - 1.5*(std_dev)\n",
        "\n",
        "    for i in range(len(arr)):\n",
        "        if arr[i]>=samp:\n",
        "            above_deviation_arr[c_above]= arr[i]\n",
        "            c_above+=1\n",
        "        elif arr[i]<=samp2:\n",
        "            below_deviation_arr[c_below]= arr[i]\n",
        "            c_below+=1\n",
        "\n",
        "    if c_above+c_below==0:\n",
        "      return None\n",
        "\n",
        "    #creating new array with the deviated elements\n",
        "    new_arr = np.array([None]*(c_above+c_below))\n",
        "    for i in range(c_above):\n",
        "        if above_deviation_arr[i]!= None:\n",
        "            new_arr[i]= above_deviation_arr[i]\n",
        "\n",
        "    c=0\n",
        "    for i in range(c_above,c_above+c_below):\n",
        "        if below_deviation_arr[c]!= None:\n",
        "            new_arr[i]= below_deviation_arr[c]\n",
        "            c+=1\n",
        "    return new_arr\n",
        "\n",
        "#Driver code\n",
        "\n",
        "arr = np.array([10, 8, 13, 9, 14, 25, -5, 20, 7, 7, 4])\n",
        "\n",
        "mean= Mean(arr)\n",
        "print(f\"The mean of the numbers is: {mean}\")\n",
        "\n",
        "std_dev = std_deviation(arr, mean)\n",
        "print(f\"The standard deviation is: {std_dev}\")\n",
        "\n",
        "\n",
        "print(f\"New array: {spaces_away_from_deviation(arr)}\")\n",
        "\n"
      ]
    }
  ],
  "metadata": {
    "colab": {
      "provenance": []
    },
    "kernelspec": {
      "display_name": "Python 3",
      "name": "python3"
    },
    "language_info": {
      "name": "python"
    }
  },
  "nbformat": 4,
  "nbformat_minor": 0
}